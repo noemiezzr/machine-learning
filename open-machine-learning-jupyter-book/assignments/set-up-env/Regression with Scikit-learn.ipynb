{
 "cells": [
  {
   "cell_type": "markdown",
   "source": [
    "42.33. Regression with Scikit-learn\n",
    "42.33.1. Instructions\n",
    "\n",
    "Take a look at the Linnerud dataset in Scikit-learn. This dataset has multiple targets: ‘It consists of three exercise (data) and three physiological (target) variables collected from twenty middle-aged men in a fitness club’.\n",
    "看一下Scikit-learn中的Linnerud数据集。这个数据集有多个目标：\"它由三个运动（数据）和三个生理（目标）变量组成，这些变量是从一个健身俱乐部的20名中年男子那里收集的。\n",
    "\n",
    "In your own words, describe how to create a Regression model that would plot the relationship between the waistline and how many situps are accomplished. Do the same for the other datapoints in this dataset.\n",
    "用你自己的话描述如何创建一个回归模型，绘制腰围和完成多少个仰卧起坐之间的关系。对这个数据集中的其他数据点也要这样做。"
   ],
   "metadata": {
    "collapsed": false
   }
  },
  {
   "cell_type": "code",
   "execution_count": null,
   "outputs": [],
   "source": [],
   "metadata": {
    "collapsed": false
   }
  }
 ],
 "metadata": {
  "kernelspec": {
   "display_name": "Python 3",
   "language": "python",
   "name": "python3"
  },
  "language_info": {
   "codemirror_mode": {
    "name": "ipython",
    "version": 2
   },
   "file_extension": ".py",
   "mimetype": "text/x-python",
   "name": "python",
   "nbconvert_exporter": "python",
   "pygments_lexer": "ipython2",
   "version": "2.7.6"
  }
 },
 "nbformat": 4,
 "nbformat_minor": 0
}
